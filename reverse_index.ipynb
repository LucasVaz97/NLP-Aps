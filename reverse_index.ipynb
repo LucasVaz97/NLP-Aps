{
 "cells": [
  {
   "cell_type": "code",
   "execution_count": 22,
   "id": "ea9742ae",
   "metadata": {},
   "outputs": [],
   "source": [
    "from sklearn.feature_extraction.text import TfidfVectorizer\n",
    "from sklearn.metrics.pairwise import cosine_distances\n",
    "import matplotlib.pyplot as plt\n",
    "import numpy as np"
   ]
  },
  {
   "cell_type": "code",
   "execution_count": 105,
   "id": "476b2ab0",
   "metadata": {},
   "outputs": [],
   "source": [
    "corpora=[\"I like bananas and to read manga pokemon\",\"I I I I I like apples and pokemon\"]"
   ]
  },
  {
   "cell_type": "code",
   "execution_count": 106,
   "id": "ef2a5df4",
   "metadata": {},
   "outputs": [],
   "source": [
    "vec = TfidfVectorizer()\n",
    "data = vec.fit_transform(corpora)\n",
    "info = [c[0:10] for c in corpora]"
   ]
  },
  {
   "cell_type": "code",
   "execution_count": 107,
   "id": "6479bf14",
   "metadata": {},
   "outputs": [
    {
     "data": {
      "text/plain": [
       "<matplotlib.lines.Line2D at 0x7fcffed02ee0>"
      ]
     },
     "execution_count": 107,
     "metadata": {},
     "output_type": "execute_result"
    },
    {
     "data": {
      "image/png": "[encoded data removed]",
      "text/plain": [
       "<Figure size 432x288 with 1 Axes>"
      ]
     },
     "metadata": {
      "needs_background": "light"
     },
     "output_type": "display_data"
    }
   ],
   "source": [
    "plt.spy(data)"
   ]
  },
  {
   "cell_type": "code",
   "execution_count": 108,
   "id": "f1e3e171",
   "metadata": {},
   "outputs": [],
   "source": [
    "inpu = vec.transform([\"pokemon\"])"
   ]
  },
  {
   "cell_type": "code",
   "execution_count": 109,
   "id": "fccb9fbc",
   "metadata": {},
   "outputs": [
    {
     "data": {
      "text/plain": [
       "<matplotlib.lines.Line2D at 0x7fcffece3f40>"
      ]
     },
     "execution_count": 109,
     "metadata": {},
     "output_type": "execute_result"
    },
    {
     "data": {
      "image/png": "[encoded data removed]",
      "text/plain": [
       "<Figure size 432x288 with 1 Axes>"
      ]
     },
     "metadata": {
      "needs_background": "light"
     },
     "output_type": "display_data"
    }
   ],
   "source": [
    "plt.spy(inpu)"
   ]
  },
  {
   "cell_type": "code",
   "execution_count": 110,
   "id": "a455ab95",
   "metadata": {},
   "outputs": [],
   "source": [
    "dists = cosine_distances(inpu,data)\n",
    "idx = np.argsort(dists)"
   ]
  },
  {
   "cell_type": "code",
   "execution_count": 111,
   "id": "3185657c",
   "metadata": {},
   "outputs": [
    {
     "data": {
      "text/plain": [
       "array([[1, 0]])"
      ]
     },
     "execution_count": 111,
     "metadata": {},
     "output_type": "execute_result"
    }
   ],
   "source": [
    "idx"
   ]
  },
  {
   "cell_type": "code",
   "execution_count": 83,
   "id": "9ed2566d",
   "metadata": {},
   "outputs": [],
   "source": [
    "ret = [info[i] for i in idx[0, 0:3]]"
   ]
  },
  {
   "cell_type": "code",
   "execution_count": 84,
   "id": "019758ef",
   "metadata": {},
   "outputs": [
    {
     "data": {
      "text/plain": [
       "['I like ban', 'I I I I I ']"
      ]
     },
     "execution_count": 84,
     "metadata": {},
     "output_type": "execute_result"
    }
   ],
   "source": [
    "ret"
   ]
  },
  {
   "cell_type": "code",
   "execution_count": 99,
   "id": "b1ead5d1",
   "metadata": {},
   "outputs": [
    {
     "data": {
      "text/plain": [
       "array([[0.55167913, 0.69712719],\n",
       "       [1.        , 0.57432284]])"
      ]
     },
     "execution_count": 99,
     "metadata": {},
     "output_type": "execute_result"
    }
   ],
   "source": [
    "dists"
   ]
  },
  {
   "cell_type": "code",
   "execution_count": null,
   "id": "1e20d528",
   "metadata": {},
   "outputs": [],
   "source": []
  },
  {
   "cell_type": "code",
   "execution_count": null,
   "id": "fed48912",
   "metadata": {},
   "outputs": [],
   "source": []
  }
 ],
 "metadata": {
  "kernelspec": {
   "display_name": "Python 3 (ipykernel)",
   "language": "python",
   "name": "python3"
  },
  "language_info": {
   "codemirror_mode": {
    "name": "ipython",
    "version": 3
   },
   "file_extension": ".py",
   "mimetype": "text/x-python",
   "name": "python",
   "nbconvert_exporter": "python",
   "pygments_lexer": "ipython3",
   "version": "3.9.7"
  }
 },
 "nbformat": 4,
 "nbformat_minor": 5
}
